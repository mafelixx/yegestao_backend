{
 "cells": [
  {
   "cell_type": "code",
   "execution_count": null,
   "metadata": {},
   "outputs": [],
   "source": [
    "import pandas as pd"
   ]
  },
  {
   "cell_type": "code",
   "execution_count": null,
   "metadata": {},
   "outputs": [],
   "source": [
    "import pandas as pd\n",
    "from pymongo import MongoClient\n",
    "\n",
    "def importar_excel_para_mongodb(caminho_excel, nome_banco, nome_colecao):\n",
    "    # Ler o arquivo Excel\n",
    "    df = pd.read_excel(caminho_excel)\n",
    "    \n",
    "    # Conectar ao MongoDB\n",
    "    client = MongoClient(\"mongodb://localhost:27017/\")  # Altere para o URI de conexão do seu MongoDB\n",
    "    db = client[nome_banco]\n",
    "    colecao = db[nome_colecao]\n",
    "    \n",
    "    # Converter DataFrame para uma lista de dicionários\n",
    "    dados = df.to_dict(orient='records')\n",
    "    \n",
    "    # Inserir os dados na coleção\n",
    "    colecao.insert_many(dados)\n",
    "    \n",
    "    print(f\"{len(dados)} documentos inseridos na coleção '{nome_colecao}' do banco de dados '{nome_banco}'.\")\n",
    "\n",
    "# Uso da função\n",
    "caminho_excel = '/Users/mafelix/DevMaua/YeGestao/data/remedios.xlsx'\n",
    "nome_banco = 'db_ye'\n",
    "nome_colecao = 'remedios'\n",
    "\n",
    "importar_excel_para_mongodb(caminho_excel, nome_banco, nome_colecao)"
   ]
  }
 ],
 "metadata": {
  "language_info": {
   "name": "python"
  }
 },
 "nbformat": 4,
 "nbformat_minor": 2
}
